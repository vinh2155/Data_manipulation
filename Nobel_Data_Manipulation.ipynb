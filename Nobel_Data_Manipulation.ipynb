{
 "cells": [
  {
   "cell_type": "code",
   "execution_count": 198,
   "metadata": {},
   "outputs": [
    {
     "name": "stdout",
     "output_type": "stream",
     "text": [
      "        firstname    surname born_country_code died_country_code gender  year  \\\n",
      "0  Wilhelm Conrad    Röntgen                DE                DE   male  1901   \n",
      "1      Hendrik A.    Lorentz                NL                NL   male  1902   \n",
      "2          Pieter     Zeeman                NL                NL   male  1902   \n",
      "3           Henri  Becquerel                FR                FR   male  1903   \n",
      "4          Pierre      Curie                FR                FR   male  1903   \n",
      "\n",
      "  category  share                                 name_of_university  \\\n",
      "0  physics      1                                  Munich University   \n",
      "1  physics      2                                  Leiden University   \n",
      "2  physics      2                               Amsterdam University   \n",
      "3  physics      2                                École Polytechnique   \n",
      "4  physics      4  École municipale de physique et de chimie indu...   \n",
      "\n",
      "  city_of_university country_of_university born_month  age  age_get_prize  \n",
      "0             Munich               Germany        Mar   78             56  \n",
      "1             Leiden       the Netherlands        Jul   75             49  \n",
      "2          Amsterdam       the Netherlands        May   78             37  \n",
      "3              Paris                France        Dec   56             51  \n",
      "4              Paris                France        May   47             44  \n"
     ]
    }
   ],
   "source": [
    "#Loading in required libraries by downloading themn with conda in the terminal\n",
    "import pandas as pd\n",
    "import seaborn as sns\n",
    "import numpy as np\n",
    "\n",
    "df = pd.read_csv('D:\\\\Python Projects\\\\nobel_final.csv')\n",
    "#The following line configures pandas to display all columns of the DataFrame\n",
    "pd.set_option('display.max_columns',None)\n",
    "print(df.head())\n"
   ]
  },
  {
   "cell_type": "markdown",
   "metadata": {},
   "source": [
    "What is the most commonly awarded gender and birth country?  \n",
    "Store your answers as string variables top_gender and top_country."
   ]
  },
  {
   "cell_type": "code",
   "execution_count": 199,
   "metadata": {},
   "outputs": [
    {
     "name": "stdout",
     "output_type": "stream",
     "text": [
      "gender\n",
      "male      869\n",
      "female     54\n",
      "Name: count, dtype: int64\n",
      "born_country_code\n",
      "US    274\n",
      "GB    103\n",
      "DE     82\n",
      "FR     56\n",
      "SE     29\n",
      "     ... \n",
      "MK      1\n",
      "CR      1\n",
      "MM      1\n",
      "IS      1\n",
      "ET      1\n",
      "Name: count, Length: 79, dtype: int64\n",
      "male\n",
      "US\n"
     ]
    }
   ],
   "source": [
    "gender_count = df['gender'].value_counts()\n",
    "print(gender_count)\n",
    "country_count= df['born_country_code'].value_counts()\n",
    "print(country_count)\n",
    "top_gender= gender_count.index[0]\n",
    "top_country= country_count.index[0]\n",
    "print(top_gender)\n",
    "print(top_country)"
   ]
  },
  {
   "cell_type": "markdown",
   "metadata": {},
   "source": [
    "Which decade had the highest ratio of US-born Nobel Prize winners to total winners in all categories?  \n",
    "Store this as an integer called max_decade_usa."
   ]
  },
  {
   "cell_type": "code",
   "execution_count": 200,
   "metadata": {},
   "outputs": [
    {
     "name": "stdout",
     "output_type": "stream",
     "text": [
      "2000\n"
     ]
    },
    {
     "name": "stderr",
     "output_type": "stream",
     "text": [
      "C:\\Users\\15145\\AppData\\Local\\Temp\\ipykernel_16144\\3773517595.py:3: SettingWithCopyWarning: \n",
      "A value is trying to be set on a copy of a slice from a DataFrame.\n",
      "Try using .loc[row_indexer,col_indexer] = value instead\n",
      "\n",
      "See the caveats in the documentation: https://pandas.pydata.org/pandas-docs/stable/user_guide/indexing.html#returning-a-view-versus-a-copy\n",
      "  df2['decade']= (df2['year']//10)*10\n"
     ]
    }
   ],
   "source": [
    "df2 = df[df['born_country_code']=='US']\n",
    "df['decade'] = (df['year']//10)*10\n",
    "df2['decade']= (df2['year']//10)*10\n",
    "#df2 is a new DataFrame containing only the rows where 'born_country_code' is 'US'\n",
    "\n",
    "nobel=(df.groupby('decade').size())\n",
    "US_nobel= (df2.groupby('decade').size())\n",
    "#We now have two pandas Series - One column with values and its quantities\n",
    "ratio= US_nobel/nobel\n",
    "max_decade_usa= ratio.idxmax()\n",
    "print(max_decade_usa)\n"
   ]
  },
  {
   "cell_type": "markdown",
   "metadata": {},
   "source": [
    "Which decade and Nobel Prize category combination had the highest proportion of female laureates?  \n",
    "Store this as a dictionary called max_female_dict where the decade is the key and the category is the value. There should only be one key:value pair."
   ]
  },
  {
   "cell_type": "code",
   "execution_count": 201,
   "metadata": {},
   "outputs": [
    {
     "name": "stdout",
     "output_type": "stream",
     "text": [
      "{2010: 'peace'}\n"
     ]
    },
    {
     "name": "stderr",
     "output_type": "stream",
     "text": [
      "C:\\Users\\15145\\AppData\\Local\\Temp\\ipykernel_16144\\953839840.py:2: SettingWithCopyWarning: \n",
      "A value is trying to be set on a copy of a slice from a DataFrame.\n",
      "Try using .loc[row_indexer,col_indexer] = value instead\n",
      "\n",
      "See the caveats in the documentation: https://pandas.pydata.org/pandas-docs/stable/user_guide/indexing.html#returning-a-view-versus-a-copy\n",
      "  df3['decade']=(df3['year']//10)*10\n"
     ]
    }
   ],
   "source": [
    "df3= df[df['gender']=='female']\n",
    "df3['decade']=(df3['year']//10)*10\n",
    "women_per_decade= df3.groupby('decade').size()\n",
    "category_grouped= df3.groupby('category').size()\n",
    "ratio2= women_per_decade/nobel\n",
    "decademax= ratio2.idxmax()\n",
    "\n",
    "women_category_max= df3['category'].value_counts().index[0]\n",
    "#Here we could use 'df3.groupby('category').size()'\n",
    "#The only difference is that instead of creating a pandas Series from top to bottom, it's in ascending order\n",
    "\n",
    "max_female_dict= {decademax:women_category_max}\n",
    "print(max_female_dict)\n",
    "\n"
   ]
  },
  {
   "cell_type": "markdown",
   "metadata": {},
   "source": [
    "Who was the first woman to receive a Nobel Prize, and in what category?  \n",
    "Save your string answers as first_woman_name and first_woman_category."
   ]
  },
  {
   "cell_type": "code",
   "execution_count": 202,
   "metadata": {},
   "outputs": [
    {
     "name": "stdout",
     "output_type": "stream",
     "text": [
      "Marie\n",
      "Marie\n"
     ]
    }
   ],
   "source": [
    "df = df.sort_values('year')\n",
    "df_women= df[df['gender']=='female']\n",
    "first_woman_name= (df_women['firstname'].iloc[0])\n",
    "first_woman_category= (df_women['firstname'].iloc[0])\n",
    "print(first_woman_name)\n",
    "print(first_woman_category)"
   ]
  },
  {
   "cell_type": "markdown",
   "metadata": {},
   "source": [
    "Who was the oldest man to ever win a Nobel Prize? Who was the youngest woman to ever win a Nobel Prize?\n",
    "Store it into a dictionary with their name and their age."
   ]
  },
  {
   "cell_type": "code",
   "execution_count": 203,
   "metadata": {},
   "outputs": [
    {
     "name": "stdout",
     "output_type": "stream",
     "text": [
      "{'Malala': 23, 'Ronald H.': 103}\n"
     ]
    }
   ],
   "source": [
    "df = df.sort_values('age')\n",
    "df_women = df[df['gender']=='female']\n",
    "df_men=df[df['gender']=='male']\n",
    "youngest_woman = df_women['firstname'].iloc[0]\n",
    "age1 = df['age'].iloc[0]\n",
    "oldest_man= df_men['firstname'].iloc[-1]\n",
    "age2 = df['age'].iloc[-1]\n",
    "\n",
    "dict = {youngest_woman:age1,\n",
    "        oldest_man:age2}\n",
    "\n",
    "print(dict)"
   ]
  }
 ],
 "metadata": {
  "kernelspec": {
   "display_name": "datamanipulationenv",
   "language": "python",
   "name": "python3"
  },
  "language_info": {
   "codemirror_mode": {
    "name": "ipython",
    "version": 3
   },
   "file_extension": ".py",
   "mimetype": "text/x-python",
   "name": "python",
   "nbconvert_exporter": "python",
   "pygments_lexer": "ipython3",
   "version": "3.10.16"
  }
 },
 "nbformat": 4,
 "nbformat_minor": 2
}
